{
 "cells": [
  {
   "cell_type": "code",
   "execution_count": 1,
   "metadata": {},
   "outputs": [
    {
     "name": "stderr",
     "output_type": "stream",
     "text": [
      "Using Theano backend.\n"
     ]
    }
   ],
   "source": [
    "from rmgpy.species import Species\n",
    "import pandas\n",
    "from rdkit import Chem\n",
    "from rdkit.Chem import AllChem\n",
    "from rmgpy.species import Species\n",
    "from rmgpy.molecule.molecule import *\n",
    "\n",
    "from rmgpy import settings\n",
    "from rmgpy.data.rmg import RMGDatabase\n",
    "from rmgpy.rmg.main import RMG\n",
    "from rmgpy.chemkin import saveChemkinFile, saveSpeciesDictionary, writeThermoEntry\n",
    "from rmgpy.rmg.model import Species\n",
    "from rmgpy.thermo.thermoengine import submit\n",
    "from rmgpy.data.thermo import *\n",
    "\n",
    "from IPython.display import display"
   ]
  },
  {
   "cell_type": "code",
   "execution_count": 2,
   "metadata": {},
   "outputs": [],
   "source": [
    "#load the RMG-database\n",
    "rmg = RMG()\n",
    "rmg.database = RMGDatabase()\n",
    "path = os.path.join(settings['database.directory'])\n",
    "rmg.database.loadThermo(os.path.join(path, 'thermo'), rmg.thermoLibraries, depository=False)"
   ]
  },
  {
   "cell_type": "code",
   "execution_count": 3,
   "metadata": {},
   "outputs": [
    {
     "name": "stdout",
     "output_type": "stream",
     "text": [
      "-8816.75786682\n",
      "85.1649809812\n",
      "27.8748467893\n",
      "-34195.9221992\n",
      "! Thermo group additivity estimation: group(S4s-OCCH) + group(O2s-S_nonDeH) + group(Cs-S4HHH) + group(Cs-S4HHH) + radical(S4sJ-OCC)\n",
      "C2H7OS                  H   7S   1C   2O   1G   100.000  5000.000  865.58      1\n",
      "-1.36418510E+01 6.85367211E-02-3.82187180E-05 7.50453006E-09-5.15955794E-13    2\n",
      "-1.28208526E+03 1.06248578E+02 1.54404040E+00 8.89437780E-02-2.30559625E-04    3\n",
      " 2.76547859E-07-1.13141750E-10-7.30439973E+03 1.55757337E+01                   4\n",
      "\n",
      "1\n",
      "True\n",
      "27.8748467893\n",
      "31.5432192527\n",
      "47.0266979913\n",
      "51.4425719003\n"
     ]
    }
   ],
   "source": [
    "#mol1_species=Species().fromSMILES('C[S](O)C')\n",
    "mol1_species=Species().fromAdjacencyList(\"\"\"\n",
    "multiplicity 2\n",
    "1  C u0 p0 c0 {2,S} {5,S} {6,S} {7,S}\n",
    "2  S u1 p1 c0 {1,S} {3,S} {4,S}\n",
    "3  O u0 p2 c0 {2,S} {8,S}\n",
    "4  C u0 p0 c0 {2,S} {9,S} {10,S} {11,S}\n",
    "5  H u0 p0 c0 {1,S}\n",
    "6  H u0 p0 c0 {1,S}\n",
    "7  H u0 p0 c0 {1,S}\n",
    "8  H u0 p0 c0 {3,S}\n",
    "9  H u0 p0 c0 {4,S}\n",
    "10 H u0 p0 c0 {4,S}\n",
    "11 H u0 p0 c0 {4,S}\n",
    "                                     \"\"\")\n",
    "submit(mol1_species)\n",
    "mol1_Hf = Species.getEnthalpy(mol1_species, 298)\n",
    "mol1_Sf = Species.getEntropy(mol1_species, 298)\n",
    "mol1_Cp = Species.getHeatCapacity(mol1_species, 300)\n",
    "mol1_Cp300 = Species.getHeatCapacity(mol1_species, 300)\n",
    "mol1_Cp500 = Species.getHeatCapacity(mol1_species, 500)\n",
    "mol1_Cp1000 = Species.getHeatCapacity(mol1_species, 1000)\n",
    "mol1_Cp1500 = Species.getHeatCapacity(mol1_species, 1500)\n",
    "mol1_Gf = Species.getFreeEnergy(mol1_species, 298)\n",
    "mol1_species_label = writeThermoEntry(mol1_species, verbose=True)\n",
    "print(mol1_Hf/4.184)\n",
    "print(mol1_Sf/4.184)\n",
    "print(mol1_Cp/4.184)\n",
    "print(mol1_Gf/4.184)\n",
    "print(mol1_species_label)\n",
    "print(len(mol1_species.molecule))\n",
    "print(mol1_species.reactive)\n",
    "\n",
    "print(mol1_Cp300/4.184)\n",
    "print(mol1_Cp500/4.184)\n",
    "print(mol1_Cp1000/4.184)\n",
    "print(mol1_Cp1500/4.184)\n",
    "#tgav = ThermoDatabase()\n",
    "#for molecule in mol1_species.molecule:\n",
    "#            molecule.clearLabeledAtoms()\n",
    "#            molecule.updateAtomTypes()\n",
    "#            tdata = tgav.estimateThermoViaGroupAdditivity(molecule)\n",
    "#            thermo.append(tdata)\n",
    "#print(thermo)"
   ]
  },
  {
   "cell_type": "code",
   "execution_count": null,
   "metadata": {},
   "outputs": [],
   "source": [
    "spc=Species().fromSMILES('[O]O[SH]=C')\n",
    "submit(spc)\n",
    "print \"species has {0} resonance structures:\\n\".format(len(spc.molecule))\n",
    " \n",
    "for struc in spc.molecule:\n",
    "    print \"{0}\".format(struc)\n",
    "    display(struc)\n",
    "print(spc.reactive)\n"
   ]
  },
  {
   "cell_type": "code",
   "execution_count": null,
   "metadata": {},
   "outputs": [],
   "source": []
  }
 ],
 "metadata": {
  "kernelspec": {
   "display_name": "Python rmg_env",
   "language": "python",
   "name": "rmg_env"
  },
  "language_info": {
   "codemirror_mode": {
    "name": "ipython",
    "version": 2
   },
   "file_extension": ".py",
   "mimetype": "text/x-python",
   "name": "python",
   "nbconvert_exporter": "python",
   "pygments_lexer": "ipython2",
   "version": "2.7.16"
  }
 },
 "nbformat": 4,
 "nbformat_minor": 2
}
