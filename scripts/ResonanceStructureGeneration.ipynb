{
 "cells": [
  {
   "cell_type": "code",
   "execution_count": 1,
   "metadata": {
    "collapsed": true
   },
   "outputs": [],
   "source": [
    "from rmgpy.species import Species\n",
    "from IPython.display import display"
   ]
  },
  {
   "cell_type": "code",
   "execution_count": 2,
   "metadata": {
    "collapsed": false
   },
   "outputs": [
    {
     "name": "stdout",
     "output_type": "stream",
     "text": [
      "2\n",
      "0\n",
      "False\n",
      "<Molecule \"CS[O]\">\n",
      "<Molecule \"C[SH]O\">\n",
      "2\n",
      "1\n",
      "False\n",
      "<Molecule \"CS[O]\">\n",
      "<Molecule \"C[SH]O\">\n",
      "species has 2 resonance structures:\n",
      "\n",
      "<Molecule \"CS[O]\">\n"
     ]
    },
    {
     "data": {
      "image/png": "[encoded data removed]",
      "text/plain": [
       "Molecule(SMILES=\"CS[O]\")"
      ]
     },
     "metadata": {},
     "output_type": "display_data"
    },
    {
     "name": "stdout",
     "output_type": "stream",
     "text": [
      "<Molecule \"C[SH]O\">\n"
     ]
    },
    {
     "data": {
      "image/png": "[encoded data removed]",
      "text/plain": [
       "Molecule(SMILES=\"C[SH]O\")"
      ]
     },
     "metadata": {},
     "output_type": "display_data"
    }
   ],
   "source": [
    "spc = Species().fromSMILES(\"CS[O]\")\n",
    "spc.generateResonanceIsomers()\n",
    "print \"species has {0} resonance structures:\\n\".format(len(spc.molecule))\n",
    " \n",
    "for struc in spc.molecule:\n",
    "    print \"{0}\".format(struc)\n",
    "    display(struc)"
   ]
  },
  {
   "cell_type": "code",
   "execution_count": null,
   "metadata": {
    "collapsed": true
   },
   "outputs": [],
   "source": []
  }
 ],
 "metadata": {
  "kernelspec": {
   "display_name": "Python 2",
   "language": "python",
   "name": "python2"
  },
  "language_info": {
   "codemirror_mode": {
    "name": "ipython",
    "version": 2
   },
   "file_extension": ".py",
   "mimetype": "text/x-python",
   "name": "python",
   "nbconvert_exporter": "python",
   "pygments_lexer": "ipython2",
   "version": "2.7.11"
  }
 },
 "nbformat": 4,
 "nbformat_minor": 0
}
