{
 "cells": [
  {
   "cell_type": "code",
   "execution_count": 1,
   "metadata": {
    "collapsed": false
   },
   "outputs": [],
   "source": [
    "from rmgpy.species import Species\n",
    "from IPython.display import display"
   ]
  },
  {
   "cell_type": "code",
   "execution_count": 2,
   "metadata": {
    "collapsed": false
   },
   "outputs": [
    {
     "name": "stdout",
     "output_type": "stream",
     "text": [
      "0\n",
      "<Molecule \"CS[O]\">\n",
      "multiplicity 2\n",
      "1 C u0 p0 c0 {2,S} {3,S} {4,S} {5,S}\n",
      "2 S u0 p2 c-1 {1,S} {6,S}\n",
      "3 H u0 p0 c0 {1,S}\n",
      "4 H u0 p0 c0 {1,S}\n",
      "5 H u0 p0 c0 {1,S}\n",
      "6 O u1 p2 c0 {2,S}\n",
      "\n",
      "<Molecule \"C[SH]O\">\n",
      "multiplicity 2\n",
      "1 C u0 p0 c0 {2,S} {3,S} {4,S} {5,S}\n",
      "2 S u1 p1 c+1 {1,S} {6,S}\n",
      "3 H u0 p0 c0 {1,S}\n",
      "4 H u0 p0 c0 {1,S}\n",
      "5 H u0 p0 c0 {1,S}\n",
      "6 O u0 p3 c-1 {2,S}\n",
      "\n",
      "<Molecule \"C[S]=O\">\n",
      "multiplicity 2\n",
      "1 C u0 p0 c0 {2,S} {3,S} {4,S} {5,S}\n",
      "2 S u1 p1 c+1 {1,S} {6,D}\n",
      "3 H u0 p0 c0 {1,S}\n",
      "4 H u0 p0 c0 {1,S}\n",
      "5 H u0 p0 c0 {1,S}\n",
      "6 O u0 p2 c0 {2,D}\n",
      "\n",
      "1\n",
      "<Molecule \"CS[O]\">\n",
      "multiplicity 2\n",
      "1 C u0 p0 c0 {2,S} {3,S} {4,S} {5,S}\n",
      "2 S u0 p2 c-1 {1,S} {6,S}\n",
      "3 H u0 p0 c0 {1,S}\n",
      "4 H u0 p0 c0 {1,S}\n",
      "5 H u0 p0 c0 {1,S}\n",
      "6 O u1 p2 c0 {2,S}\n",
      "\n",
      "<Molecule \"C[SH]O\">\n",
      "multiplicity 2\n",
      "1 C u0 p0 c0 {2,S} {3,S} {4,S} {5,S}\n",
      "2 S u1 p1 c+1 {1,S} {6,S}\n",
      "3 H u0 p0 c0 {1,S}\n",
      "4 H u0 p0 c0 {1,S}\n",
      "5 H u0 p0 c0 {1,S}\n",
      "6 O u0 p3 c-1 {2,S}\n",
      "\n",
      "<Molecule \"C[S]=O\">\n",
      "multiplicity 2\n",
      "1 C u0 p0 c0 {2,S} {3,S} {4,S} {5,S}\n",
      "2 S u1 p1 c+1 {1,S} {6,D}\n",
      "3 H u0 p0 c0 {1,S}\n",
      "4 H u0 p0 c0 {1,S}\n",
      "5 H u0 p0 c0 {1,S}\n",
      "6 O u0 p2 c0 {2,D}\n",
      "\n",
      "<Molecule \"CS[O]\">\n",
      "multiplicity 2\n",
      "1 C u0 p0 c0 {2,S} {3,S} {4,S} {5,S}\n",
      "2 S u0 p2 c0 {1,S} {6,S}\n",
      "3 H u0 p0 c0 {1,S}\n",
      "4 H u0 p0 c0 {1,S}\n",
      "5 H u0 p0 c0 {1,S}\n",
      "6 O u1 p2 c0 {2,S}\n",
      "\n",
      "2\n",
      "<Molecule \"CS[O]\">\n",
      "multiplicity 2\n",
      "1 C u0 p0 c0 {2,S} {3,S} {4,S} {5,S}\n",
      "2 S u0 p2 c-1 {1,S} {6,S}\n",
      "3 H u0 p0 c0 {1,S}\n",
      "4 H u0 p0 c0 {1,S}\n",
      "5 H u0 p0 c0 {1,S}\n",
      "6 O u1 p2 c0 {2,S}\n",
      "\n",
      "<Molecule \"C[SH]O\">\n",
      "multiplicity 2\n",
      "1 C u0 p0 c0 {2,S} {3,S} {4,S} {5,S}\n",
      "2 S u1 p1 c+1 {1,S} {6,S}\n",
      "3 H u0 p0 c0 {1,S}\n",
      "4 H u0 p0 c0 {1,S}\n",
      "5 H u0 p0 c0 {1,S}\n",
      "6 O u0 p3 c-1 {2,S}\n",
      "\n",
      "<Molecule \"C[S]=O\">\n",
      "multiplicity 2\n",
      "1 C u0 p0 c0 {2,S} {3,S} {4,S} {5,S}\n",
      "2 S u1 p1 c+1 {1,S} {6,D}\n",
      "3 H u0 p0 c0 {1,S}\n",
      "4 H u0 p0 c0 {1,S}\n",
      "5 H u0 p0 c0 {1,S}\n",
      "6 O u0 p2 c0 {2,D}\n",
      "\n",
      "<Molecule \"CS[O]\">\n",
      "multiplicity 2\n",
      "1 C u0 p0 c0 {2,S} {3,S} {4,S} {5,S}\n",
      "2 S u0 p2 c0 {1,S} {6,S}\n",
      "3 H u0 p0 c0 {1,S}\n",
      "4 H u0 p0 c0 {1,S}\n",
      "5 H u0 p0 c0 {1,S}\n",
      "6 O u1 p2 c0 {2,S}\n",
      "\n",
      "3\n",
      "<Molecule \"CS[O]\">\n",
      "multiplicity 2\n",
      "1 C u0 p0 c0 {2,S} {3,S} {4,S} {5,S}\n",
      "2 S u0 p2 c-1 {1,S} {6,S}\n",
      "3 H u0 p0 c0 {1,S}\n",
      "4 H u0 p0 c0 {1,S}\n",
      "5 H u0 p0 c0 {1,S}\n",
      "6 O u1 p2 c0 {2,S}\n",
      "\n",
      "<Molecule \"C[SH]O\">\n",
      "multiplicity 2\n",
      "1 C u0 p0 c0 {2,S} {3,S} {4,S} {5,S}\n",
      "2 S u1 p1 c+1 {1,S} {6,S}\n",
      "3 H u0 p0 c0 {1,S}\n",
      "4 H u0 p0 c0 {1,S}\n",
      "5 H u0 p0 c0 {1,S}\n",
      "6 O u0 p3 c-1 {2,S}\n",
      "\n",
      "<Molecule \"C[S]=O\">\n",
      "multiplicity 2\n",
      "1 C u0 p0 c0 {2,S} {3,S} {4,S} {5,S}\n",
      "2 S u1 p1 c+1 {1,S} {6,D}\n",
      "3 H u0 p0 c0 {1,S}\n",
      "4 H u0 p0 c0 {1,S}\n",
      "5 H u0 p0 c0 {1,S}\n",
      "6 O u0 p2 c0 {2,D}\n",
      "\n",
      "<Molecule \"CS[O]\">\n",
      "multiplicity 2\n",
      "1 C u0 p0 c0 {2,S} {3,S} {4,S} {5,S}\n",
      "2 S u0 p2 c-1 {1,S} {6,S}\n",
      "3 H u0 p0 c0 {1,S}\n",
      "4 H u0 p0 c0 {1,S}\n",
      "5 H u0 p0 c0 {1,S}\n",
      "6 O u1 p2 c0 {2,S}\n",
      "\n",
      "species has 4 resonance structures:\n",
      "\n",
      "<Molecule \"CS[O]\">\n"
     ]
    },
    {
     "data": {
      "image/png": "[encoded data removed]",
      "text/plain": [
       "Molecule(SMILES=\"CS[O]\")"
      ]
     },
     "metadata": {},
     "output_type": "display_data"
    },
    {
     "name": "stdout",
     "output_type": "stream",
     "text": [
      "<Molecule \"C[SH]O\">\n"
     ]
    },
    {
     "data": {
      "image/png": "[encoded data removed]",
      "text/plain": [
       "Molecule(SMILES=\"C[SH]O\")"
      ]
     },
     "metadata": {},
     "output_type": "display_data"
    },
    {
     "name": "stdout",
     "output_type": "stream",
     "text": [
      "<Molecule \"C[S]=O\">\n"
     ]
    },
    {
     "data": {
      "image/png": "[encoded data removed]",
      "text/plain": [
       "Molecule(SMILES=\"C[S]=O\")"
      ]
     },
     "metadata": {},
     "output_type": "display_data"
    },
    {
     "name": "stdout",
     "output_type": "stream",
     "text": [
      "<Molecule \"CS[O]\">\n"
     ]
    },
    {
     "data": {
      "image/png": "[encoded data removed]",
      "text/plain": [
       "Molecule(SMILES=\"CS[O]\")"
      ]
     },
     "metadata": {},
     "output_type": "display_data"
    }
   ],
   "source": [
    "spc = Species().fromAdjacencyList(\"\"\"\n",
    "multiplicity 2\n",
    "1 C u0 p0 c0 {2,S} {4,S} {5,S} {6,S}\n",
    "2 S u0 p2 c0 {1,S} {3,S}\n",
    "3 O u1 p2 c0 {2,S}\n",
    "4 H u0 p0 c0 {1,S}\n",
    "5 H u0 p0 c0 {1,S}\n",
    "6 H u0 p0 c0 {1,S}\n",
    "\"\"\")\n",
    "\n",
    "spc.generateResonanceIsomers()\n",
    "print \"species has {0} resonance structures:\\n\".format(len(spc.molecule))\n",
    " \n",
    "for struc in spc.molecule:\n",
    "    print \"{0}\".format(struc)\n",
    "    display(struc)"
   ]
  },
  {
   "cell_type": "code",
   "execution_count": null,
   "metadata": {
    "collapsed": true
   },
   "outputs": [],
   "source": []
  },
  {
   "cell_type": "code",
   "execution_count": null,
   "metadata": {
    "collapsed": true
   },
   "outputs": [],
   "source": []
  }
 ],
 "metadata": {
  "kernelspec": {
   "display_name": "Python 2",
   "language": "python",
   "name": "python2"
  },
  "language_info": {
   "codemirror_mode": {
    "name": "ipython",
    "version": 2
   },
   "file_extension": ".py",
   "mimetype": "text/x-python",
   "name": "python",
   "nbconvert_exporter": "python",
   "pygments_lexer": "ipython2",
   "version": "2.7.11"
  }
 },
 "nbformat": 4,
 "nbformat_minor": 0
}
